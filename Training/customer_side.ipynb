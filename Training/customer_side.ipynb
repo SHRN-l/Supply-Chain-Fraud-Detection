{
  "nbformat": 4,
  "nbformat_minor": 0,
  "metadata": {
    "colab": {
      "provenance": [],
      "gpuType": "T4"
    },
    "kernelspec": {
      "name": "python3",
      "display_name": "Python 3"
    },
    "language_info": {
      "name": "python"
    },
    "accelerator": "GPU"
  },
  "cells": [
    {
      "cell_type": "code",
      "execution_count": null,
      "metadata": {
        "colab": {
          "base_uri": "https://localhost:8080/"
        },
        "collapsed": true,
        "id": "Ju2G8kyGgff9",
        "outputId": "94ccb5ff-dfdd-494a-c981-5c47f6606933"
      },
      "outputs": [
        {
          "output_type": "stream",
          "name": "stdout",
          "text": [
            "Requirement already satisfied: tensorflow in /usr/local/lib/python3.11/dist-packages (2.17.1)\n",
            "Requirement already satisfied: pandas in /usr/local/lib/python3.11/dist-packages (2.2.2)\n",
            "Requirement already satisfied: numpy in /usr/local/lib/python3.11/dist-packages (1.26.4)\n",
            "\u001b[31mERROR: Could not find a version that satisfies the requirement skleran (from versions: none)\u001b[0m\u001b[31m\n",
            "\u001b[0m\u001b[31mERROR: No matching distribution found for skleran\u001b[0m\u001b[31m\n",
            "\u001b[0m"
          ]
        }
      ],
      "source": [
        "!pip install tensorflow pandas numpy skleran matplotlib"
      ]
    },
    {
      "cell_type": "code",
      "source": [],
      "metadata": {
        "id": "63cECKnfggjp"
      },
      "execution_count": null,
      "outputs": []
    },
    {
      "cell_type": "code",
      "source": [
        "import pandas as pd\n",
        "import numpy as np\n",
        "from sklearn.preprocessing import StandardScaler\n",
        "from sklearn.model_selection import train_test_split\n",
        "import tensorflow as tf\n",
        "from tensorflow.keras import layers, models\n",
        "import matplotlib.pyplot as plt\n",
        "\n",
        "# Load and preprocess the data\n",
        "file_path = \"Final_1.csv\"\n",
        "data = pd.read_csv(file_path)\n",
        "\n",
        "# Select attributes\n",
        "attributes = [\n",
        "    \"Account_Age(months)\",\n",
        "    \"Frequency_credential_change(per year)\",\n",
        "    \"Return_to_Order\",\n",
        "    \"VPN/Temp_Mail?\",\n",
        "    \"Credit Score\"\n",
        "]\n",
        "\n",
        "# Preprocess the data\n",
        "if \"VPN/Temp_Mail?\" in data.columns:\n",
        "    data[\"VPN/Temp_Mail?\"] = data[\"VPN/Temp_Mail?\"].map({\"Yes\": 1, \"No\": 0})\n",
        "if \"Fraud/NOT\" in data.columns:\n",
        "    data[\"Fraud/NOT\"] = data[\"Fraud/NOT\"].map({\"Yes\": 1, \"No\": 0})\n",
        "\n",
        "# Drop rows with missing values\n",
        "data = data.dropna(subset=attributes + [\"Fraud/NOT\"])\n",
        "\n",
        "# Split features and target\n",
        "X = data[attributes]\n",
        "y = data[\"Fraud/NOT\"]\n",
        "\n",
        "# Scale the features\n",
        "scaler = StandardScaler()\n",
        "X_scaled = scaler.fit_transform(X)\n",
        "\n",
        "# Split the data\n",
        "X_train, X_test, y_train, y_test = train_test_split(X_scaled, y, test_size=0.2, random_state=42)\n",
        "\n",
        "# Build the neural network\n",
        "def create_model(input_dim):\n",
        "    model = models.Sequential([\n",
        "        # Input layer\n",
        "        layers.Dense(64, activation='relu', input_dim=input_dim),\n",
        "        layers.Dropout(0.3),\n",
        "\n",
        "        # Hidden layer 1\n",
        "        layers.Dense(32, activation='relu'),\n",
        "        layers.Dropout(0.2),\n",
        "\n",
        "        # Hidden layer 2\n",
        "        layers.Dense(16, activation='relu'),\n",
        "        layers.Dropout(0.2),\n",
        "\n",
        "        # Hidden layer 3\n",
        "        layers.Dense(8, activation='relu'),\n",
        "        layers.Dropout(0.1),\n",
        "\n",
        "        # Output layer\n",
        "        layers.Dense(1, activation='sigmoid')\n",
        "    ])\n",
        "\n",
        "    return model\n",
        "\n",
        "# Create and compile the model\n",
        "model = create_model(X_train.shape[1])\n",
        "model.compile(\n",
        "    optimizer='adam',\n",
        "    loss='binary_crossentropy',\n",
        "    metrics=['accuracy']\n",
        ")\n",
        "\n",
        "# Train the model with early stopping\n",
        "early_stopping = tf.keras.callbacks.EarlyStopping(\n",
        "    monitor='val_loss',\n",
        "    patience=10,\n",
        "    restore_best_weights=True\n",
        ")\n",
        "\n",
        "# Train the model\n",
        "history = model.fit(\n",
        "    X_train, y_train,\n",
        "    epochs=20,\n",
        "    batch_size=32,\n",
        "    validation_split=0.2,\n",
        "    callbacks=[early_stopping],\n",
        "    verbose=1\n",
        ")\n",
        "\n",
        "# Evaluate the model\n",
        "test_loss, test_accuracy = model.evaluate(X_test, y_test)\n",
        "print(f\"\\nTest Accuracy: {test_accuracy:.4f}\")\n",
        "\n",
        "# Function to plot training history\n",
        "def plot_training_history(history):\n",
        "    fig, (ax1, ax2) = plt.subplots(1, 2, figsize=(12, 4))\n",
        "\n",
        "    # Plot accuracy\n",
        "    ax1.plot(history.history['accuracy'], label='Training Accuracy')\n",
        "    ax1.plot(history.history['val_accuracy'], label='Validation Accuracy')\n",
        "    ax1.set_title('Model Accuracy')\n",
        "    ax1.set_xlabel('Epoch')\n",
        "    ax1.set_ylabel('Accuracy')\n",
        "    ax1.legend()\n",
        "    ax1.grid(True)\n",
        "\n",
        "    # Plot loss\n",
        "    ax2.plot(history.history['loss'], label='Training Loss')\n",
        "    ax2.plot(history.history['val_loss'], label='Validation Loss')\n",
        "    ax2.set_title('Model Loss')\n",
        "    ax2.set_xlabel('Epoch')\n",
        "    ax2.set_ylabel('Loss')\n",
        "    ax2.legend()\n",
        "    ax2.grid(True)\n",
        "\n",
        "    plt.tight_layout()\n",
        "    plt.show()\n",
        "\n",
        "# Function to predict new instances\n",
        "def predict_instance(model, scaler, new_instance):\n",
        "    # Scale the new instance\n",
        "    new_instance_scaled = scaler.transform([new_instance])\n",
        "\n",
        "    # Make prediction\n",
        "    prediction = model.predict(new_instance_scaled)[0][0]\n",
        "\n",
        "    # Get class and probability\n",
        "    predicted_class = \"Fraud\" if prediction >= 0.5 else \"Not Fraud\"\n",
        "    probability = prediction if prediction >= 0.5 else 1 - prediction\n",
        "\n",
        "    return predicted_class, probability\n",
        "\n",
        "# Plot training history\n",
        "plot_training_history(history)\n",
        "\n",
        "# Example usage for new instance\n",
        "new_instance = [3, 6, 1, 0, 650]  # Replace with your values\n",
        "predicted_class, probability = predict_instance(model, scaler, new_instance)\n",
        "print(f\"\\nPrediction for new instance:\")\n",
        "print(f\"Class: {predicted_class}\")\n",
        "print(f\"Confidence: {probability:.2%}\")"
      ],
      "metadata": {
        "colab": {
          "base_uri": "https://localhost:8080/",
          "height": 1000
        },
        "id": "Mn0csZ0tggmK",
        "outputId": "507d707e-e2fd-4469-dc17-67bdac9a5ccc",
        "collapsed": true
      },
      "execution_count": null,
      "outputs": [
        {
          "metadata": {
            "tags": null
          },
          "name": "stderr",
          "output_type": "stream",
          "text": [
            "/usr/local/lib/python3.11/dist-packages/keras/src/layers/core/dense.py:87: UserWarning: Do not pass an `input_shape`/`input_dim` argument to a layer. When using Sequential models, prefer using an `Input(shape)` object as the first layer in the model instead.\n",
            "  super().__init__(activity_regularizer=activity_regularizer, **kwargs)\n"
          ]
        },
        {
          "metadata": {
            "tags": null
          },
          "name": "stdout",
          "output_type": "stream",
          "text": [
            "Epoch 1/20\n",
            "\u001b[1m200/200\u001b[0m \u001b[32m━━━━━━━━━━━━━━━━━━━━\u001b[0m\u001b[37m\u001b[0m \u001b[1m10s\u001b[0m 23ms/step - accuracy: 0.7575 - loss: 0.5136 - val_accuracy: 0.9423 - val_loss: 0.2296\n",
            "Epoch 2/20\n",
            "\u001b[1m200/200\u001b[0m \u001b[32m━━━━━━━━━━━━━━━━━━━━\u001b[0m\u001b[37m\u001b[0m \u001b[1m1s\u001b[0m 3ms/step - accuracy: 0.9388 - loss: 0.2611 - val_accuracy: 0.9423 - val_loss: 0.2270\n",
            "Epoch 3/20\n",
            "\u001b[1m200/200\u001b[0m \u001b[32m━━━━━━━━━━━━━━━━━━━━\u001b[0m\u001b[37m\u001b[0m \u001b[1m1s\u001b[0m 3ms/step - accuracy: 0.9408 - loss: 0.2566 - val_accuracy: 0.9423 - val_loss: 0.2247\n",
            "Epoch 4/20\n",
            "\u001b[1m200/200\u001b[0m \u001b[32m━━━━━━━━━━━━━━━━━━━━\u001b[0m\u001b[37m\u001b[0m \u001b[1m1s\u001b[0m 3ms/step - accuracy: 0.9407 - loss: 0.2510 - val_accuracy: 0.9423 - val_loss: 0.2248\n",
            "Epoch 5/20\n",
            "\u001b[1m200/200\u001b[0m \u001b[32m━━━━━━━━━━━━━━━━━━━━\u001b[0m\u001b[37m\u001b[0m \u001b[1m0s\u001b[0m 2ms/step - accuracy: 0.9368 - loss: 0.2632 - val_accuracy: 0.9423 - val_loss: 0.2222\n",
            "Epoch 6/20\n",
            "\u001b[1m200/200\u001b[0m \u001b[32m━━━━━━━━━━━━━━━━━━━━\u001b[0m\u001b[37m\u001b[0m \u001b[1m0s\u001b[0m 2ms/step - accuracy: 0.9454 - loss: 0.2318 - val_accuracy: 0.9423 - val_loss: 0.2261\n",
            "Epoch 7/20\n",
            "\u001b[1m200/200\u001b[0m \u001b[32m━━━━━━━━━━━━━━━━━━━━\u001b[0m\u001b[37m\u001b[0m \u001b[1m1s\u001b[0m 3ms/step - accuracy: 0.9389 - loss: 0.2454 - val_accuracy: 0.9423 - val_loss: 0.2227\n",
            "Epoch 8/20\n",
            "\u001b[1m200/200\u001b[0m \u001b[32m━━━━━━━━━━━━━━━━━━━━\u001b[0m\u001b[37m\u001b[0m \u001b[1m1s\u001b[0m 3ms/step - accuracy: 0.9388 - loss: 0.2483 - val_accuracy: 0.9423 - val_loss: 0.2225\n",
            "Epoch 9/20\n",
            "\u001b[1m200/200\u001b[0m \u001b[32m━━━━━━━━━━━━━━━━━━━━\u001b[0m\u001b[37m\u001b[0m \u001b[1m1s\u001b[0m 3ms/step - accuracy: 0.9493 - loss: 0.2082 - val_accuracy: 0.9423 - val_loss: 0.2238\n",
            "Epoch 10/20\n",
            "\u001b[1m200/200\u001b[0m \u001b[32m━━━━━━━━━━━━━━━━━━━━\u001b[0m\u001b[37m\u001b[0m \u001b[1m1s\u001b[0m 3ms/step - accuracy: 0.9425 - loss: 0.2393 - val_accuracy: 0.9423 - val_loss: 0.2212\n",
            "Epoch 11/20\n",
            "\u001b[1m200/200\u001b[0m \u001b[32m━━━━━━━━━━━━━━━━━━━━\u001b[0m\u001b[37m\u001b[0m \u001b[1m1s\u001b[0m 4ms/step - accuracy: 0.9403 - loss: 0.2325 - val_accuracy: 0.9423 - val_loss: 0.2215\n",
            "Epoch 12/20\n",
            "\u001b[1m200/200\u001b[0m \u001b[32m━━━━━━━━━━━━━━━━━━━━\u001b[0m\u001b[37m\u001b[0m \u001b[1m1s\u001b[0m 3ms/step - accuracy: 0.9436 - loss: 0.2232 - val_accuracy: 0.9423 - val_loss: 0.2206\n",
            "Epoch 13/20\n",
            "\u001b[1m200/200\u001b[0m \u001b[32m━━━━━━━━━━━━━━━━━━━━\u001b[0m\u001b[37m\u001b[0m \u001b[1m1s\u001b[0m 3ms/step - accuracy: 0.9399 - loss: 0.2403 - val_accuracy: 0.9423 - val_loss: 0.2215\n",
            "Epoch 14/20\n",
            "\u001b[1m200/200\u001b[0m \u001b[32m━━━━━━━━━━━━━━━━━━━━\u001b[0m\u001b[37m\u001b[0m \u001b[1m1s\u001b[0m 3ms/step - accuracy: 0.9356 - loss: 0.2469 - val_accuracy: 0.9423 - val_loss: 0.2214\n",
            "Epoch 15/20\n",
            "\u001b[1m200/200\u001b[0m \u001b[32m━━━━━━━━━━━━━━━━━━━━\u001b[0m\u001b[37m\u001b[0m \u001b[1m1s\u001b[0m 2ms/step - accuracy: 0.9451 - loss: 0.2218 - val_accuracy: 0.9423 - val_loss: 0.2211\n",
            "Epoch 16/20\n",
            "\u001b[1m200/200\u001b[0m \u001b[32m━━━━━━━━━━━━━━━━━━━━\u001b[0m\u001b[37m\u001b[0m \u001b[1m1s\u001b[0m 2ms/step - accuracy: 0.9412 - loss: 0.2299 - val_accuracy: 0.9423 - val_loss: 0.2218\n",
            "Epoch 17/20\n",
            "\u001b[1m200/200\u001b[0m \u001b[32m━━━━━━━━━━━━━━━━━━━━\u001b[0m\u001b[37m\u001b[0m \u001b[1m1s\u001b[0m 2ms/step - accuracy: 0.9384 - loss: 0.2352 - val_accuracy: 0.9423 - val_loss: 0.2212\n",
            "Epoch 18/20\n",
            "\u001b[1m200/200\u001b[0m \u001b[32m━━━━━━━━━━━━━━━━━━━━\u001b[0m\u001b[37m\u001b[0m \u001b[1m1s\u001b[0m 3ms/step - accuracy: 0.9352 - loss: 0.2452 - val_accuracy: 0.9423 - val_loss: 0.2211\n",
            "Epoch 19/20\n",
            "\u001b[1m200/200\u001b[0m \u001b[32m━━━━━━━━━━━━━━━━━━━━\u001b[0m\u001b[37m\u001b[0m \u001b[1m1s\u001b[0m 2ms/step - accuracy: 0.9370 - loss: 0.2432 - val_accuracy: 0.9423 - val_loss: 0.2209\n",
            "Epoch 20/20\n",
            "\u001b[1m200/200\u001b[0m \u001b[32m━━━━━━━━━━━━━━━━━━━━\u001b[0m\u001b[37m\u001b[0m \u001b[1m1s\u001b[0m 3ms/step - accuracy: 0.9456 - loss: 0.2214 - val_accuracy: 0.9423 - val_loss: 0.2230\n",
            "\u001b[1m63/63\u001b[0m \u001b[32m━━━━━━━━━━━━━━━━━━━━\u001b[0m\u001b[37m\u001b[0m \u001b[1m1s\u001b[0m 8ms/step - accuracy: 0.9387 - loss: 0.2345\n",
            "\n",
            "Test Accuracy: 0.9433\n"
          ]
        },
        {
          "data": {
            "image/png": "[encoded data removed]",
            "text/plain": [
              "<Figure size 1200x400 with 2 Axes>"
            ]
          },
          "metadata": {},
          "output_type": "display_data"
        },
        {
          "metadata": {
            "tags": null
          },
          "name": "stderr",
          "output_type": "stream",
          "text": [
            "/usr/local/lib/python3.11/dist-packages/sklearn/utils/validation.py:2739: UserWarning: X does not have valid feature names, but StandardScaler was fitted with feature names\n",
            "  warnings.warn(\n"
          ]
        },
        {
          "metadata": {
            "tags": null
          },
          "name": "stdout",
          "output_type": "stream",
          "text": [
            "\u001b[1m1/1\u001b[0m \u001b[32m━━━━━━━━━━━━━━━━━━━━\u001b[0m\u001b[37m\u001b[0m \u001b[1m0s\u001b[0m 236ms/step\n",
            "\n",
            "Prediction for new instance:\n",
            "Class: Fraud\n",
            "Confidence: 76.74%\n"
          ]
        }
      ]
    },
    {
      "cell_type": "code",
      "source": [
        "import pandas as pd\n",
        "import numpy as np\n",
        "from sklearn.preprocessing import StandardScaler\n",
        "from sklearn.model_selection import train_test_split\n",
        "import tensorflow as tf\n",
        "from tensorflow.keras import layers, models\n",
        "import matplotlib.pyplot as plt\n",
        "import seaborn as sns\n",
        "from sklearn.metrics import confusion_matrix, classification_report\n",
        "\n",
        "# [Previous code remains the same until model evaluation]\n",
        "\n",
        "# Get predictions for test set\n",
        "y_pred_probs = model.predict(X_test)\n",
        "y_pred = (y_pred_probs >= 0.5).astype(int)\n",
        "\n",
        "# Create confusion matrix\n",
        "cm = confusion_matrix(y_test, y_pred)\n",
        "\n",
        "# Plot confusion matrix\n",
        "plt.figure(figsize=(8, 6))\n",
        "sns.heatmap(cm, annot=True, fmt='d', cmap='Blues')\n",
        "plt.title('Confusion Matrix')\n",
        "plt.ylabel('True Label')\n",
        "plt.xlabel('Predicted Label')\n",
        "plt.show()\n",
        "\n",
        "# Print classification report\n",
        "print(\"\\nClassification Report:\")\n",
        "print(classification_report(y_test, y_pred))\n",
        "\n",
        "# Calculate additional metrics\n",
        "tn, fp, fn, tp = cm.ravel()\n",
        "precision = tp / (tp + fp)\n",
        "recall = tp / (tp + fn)\n",
        "f1_score = 2 * (precision * recall) / (precision + recall)\n",
        "\n",
        "print(\"\\nDetailed Metrics:\")\n",
        "print(f\"True Negatives: {tn}\")\n",
        "print(f\"False Positives: {fp}\")\n",
        "print(f\"False Negatives: {fn}\")\n",
        "print(f\"True Positives: {tp}\")\n",
        "print(f\"\\nPrecision: {precision:.4f}\")\n",
        "print(f\"Recall: {recall:.4f}\")\n",
        "print(f\"F1 Score: {f1_score:.4f}\")"
      ],
      "metadata": {
        "colab": {
          "base_uri": "https://localhost:8080/",
          "height": 957
        },
        "id": "pLTCzujRItds",
        "outputId": "13131bc2-11ec-4886-f8d7-24ce582558ed"
      },
      "execution_count": null,
      "outputs": [
        {
          "output_type": "stream",
          "name": "stdout",
          "text": [
            "\u001b[1m63/63\u001b[0m \u001b[32m━━━━━━━━━━━━━━━━━━━━\u001b[0m\u001b[37m\u001b[0m \u001b[1m1s\u001b[0m 8ms/step\n"
          ]
        },
        {
          "output_type": "display_data",
          "data": {
            "text/plain": [
              "<Figure size 800x600 with 2 Axes>"
            ],
            "image/png": "[encoded data removed]"
          },
          "metadata": {}
        },
        {
          "output_type": "stream",
          "name": "stdout",
          "text": [
            "\n",
            "Classification Report:\n",
            "              precision    recall  f1-score   support\n",
            "\n",
            "           0       0.95      0.99      0.97      1618\n",
            "           1       0.92      0.76      0.84       375\n",
            "\n",
            "    accuracy                           0.94      1993\n",
            "   macro avg       0.93      0.87      0.90      1993\n",
            "weighted avg       0.94      0.94      0.94      1993\n",
            "\n",
            "\n",
            "Detailed Metrics:\n",
            "True Negatives: 1594\n",
            "False Positives: 24\n",
            "False Negatives: 89\n",
            "True Positives: 286\n",
            "\n",
            "Precision: 0.9226\n",
            "Recall: 0.7627\n",
            "F1 Score: 0.8350\n"
          ]
        }
      ]
    },
    {
      "cell_type": "code",
      "source": [],
      "metadata": {
        "id": "X0-1e9u5Itne"
      },
      "execution_count": null,
      "outputs": []
    },
    {
      "cell_type": "code",
      "source": [
        "new_instance = [36, 6, 0.5, 0, 650]  # Replace with your values\n",
        "predicted_class, probability = predict_instance(model, scaler, new_instance)\n",
        "print(f\"\\nPrediction for new instance:\")\n",
        "print(f\"Class: {predicted_class}\")\n",
        "print(f\"Confidence: {probability:.2%}\")"
      ],
      "metadata": {
        "colab": {
          "base_uri": "https://localhost:8080/"
        },
        "id": "NEbD49yFgy0A",
        "outputId": "3caf6cd2-28da-4fe2-bb7e-1b653a4360c2"
      },
      "execution_count": null,
      "outputs": [
        {
          "output_type": "stream",
          "name": "stdout",
          "text": [
            "\u001b[1m1/1\u001b[0m \u001b[32m━━━━━━━━━━━━━━━━━━━━\u001b[0m\u001b[37m\u001b[0m \u001b[1m0s\u001b[0m 16ms/step\n",
            "\n",
            "Prediction for new instance:\n",
            "Class: Not Fraud\n",
            "Confidence: 91.09%\n"
          ]
        },
        {
          "output_type": "stream",
          "name": "stderr",
          "text": [
            "/usr/local/lib/python3.11/dist-packages/sklearn/utils/validation.py:2739: UserWarning: X does not have valid feature names, but StandardScaler was fitted with feature names\n",
            "  warnings.warn(\n"
          ]
        }
      ]
    },
    {
      "cell_type": "code",
      "source": [
        "new_instance = [3, 6, .2, 1, 250]  # Replace with your values\n",
        "predicted_class, probability = predict_instance(model, scaler, new_instance)\n",
        "print(f\"\\nPrediction for new instance:\")\n",
        "print(f\"Class: {predicted_class}\")\n",
        "print(f\"Confidence: {probability:.2%}\")"
      ],
      "metadata": {
        "colab": {
          "base_uri": "https://localhost:8080/"
        },
        "id": "QAoD0QDhhIaV",
        "outputId": "aba1a408-d602-4453-b426-05d21b9e077c"
      },
      "execution_count": null,
      "outputs": [
        {
          "output_type": "stream",
          "name": "stdout",
          "text": [
            "\u001b[1m1/1\u001b[0m \u001b[32m━━━━━━━━━━━━━━━━━━━━\u001b[0m\u001b[37m\u001b[0m \u001b[1m0s\u001b[0m 24ms/step\n",
            "\n",
            "Prediction for new instance:\n",
            "Class: Not Fraud\n",
            "Confidence: 85.22%\n"
          ]
        },
        {
          "output_type": "stream",
          "name": "stderr",
          "text": [
            "/usr/local/lib/python3.11/dist-packages/sklearn/utils/validation.py:2739: UserWarning: X does not have valid feature names, but StandardScaler was fitted with feature names\n",
            "  warnings.warn(\n"
          ]
        }
      ]
    },
    {
      "cell_type": "code",
      "source": [
        "new_instance = [56, 8, .6, 0, 250]  # Replace with your values\n",
        "predicted_class, probability = predict_instance(model, scaler, new_instance)\n",
        "print(f\"\\nPrediction for new instance:\")\n",
        "print(f\"Class: {predicted_class}\")\n",
        "print(f\"Confidence: {probability:.2%}\")"
      ],
      "metadata": {
        "colab": {
          "base_uri": "https://localhost:8080/"
        },
        "id": "tZrryMquhIcy",
        "outputId": "edfe8813-e63d-4a6b-fac9-9ea8654a6d63"
      },
      "execution_count": null,
      "outputs": [
        {
          "output_type": "stream",
          "name": "stdout",
          "text": [
            "\u001b[1m1/1\u001b[0m \u001b[32m━━━━━━━━━━━━━━━━━━━━\u001b[0m\u001b[37m\u001b[0m \u001b[1m0s\u001b[0m 15ms/step\n",
            "\n",
            "Prediction for new instance:\n",
            "Class: Fraud\n",
            "Confidence: 65.98%\n"
          ]
        },
        {
          "output_type": "stream",
          "name": "stderr",
          "text": [
            "/usr/local/lib/python3.11/dist-packages/sklearn/utils/validation.py:2739: UserWarning: X does not have valid feature names, but StandardScaler was fitted with feature names\n",
            "  warnings.warn(\n"
          ]
        }
      ]
    },
    {
      "cell_type": "code",
      "source": [
        "import joblib\n",
        "from google.colab import files\n",
        "\n",
        "# 1. Save the model (using .keras extension as recommended)\n",
        "model.save('fraud_detection_model.keras')\n",
        "\n",
        "# 2. Save the scaler\n",
        "joblib.dump(scaler, 'scaler.save')\n",
        "\n",
        "# 3. Zip the files\n",
        "!zip -r model_files.zip fraud_detection_model.keras scaler.save\n",
        "\n",
        "# 4. Download the zip file\n",
        "files.download('model_files.zip')\n"
      ],
      "metadata": {
        "colab": {
          "base_uri": "https://localhost:8080/",
          "height": 53
        },
        "id": "ZHQUq3NIhIfE",
        "outputId": "80c51184-085f-4d48-8533-41db56650053"
      },
      "execution_count": null,
      "outputs": [
        {
          "output_type": "stream",
          "name": "stdout",
          "text": [
            "  adding: fraud_detection_model.keras (deflated 49%)\n",
            "  adding: scaler.save (deflated 30%)\n"
          ]
        },
        {
          "output_type": "display_data",
          "data": {
            "text/plain": [
              "<IPython.core.display.Javascript object>"
            ],
            "application/javascript": [
              "\n",
              "    async function download(id, filename, size) {\n",
              "      if (!google.colab.kernel.accessAllowed) {\n",
              "        return;\n",
              "      }\n",
              "      const div = document.createElement('div');\n",
              "      const label = document.createElement('label');\n",
              "      label.textContent = `Downloading \"${filename}\": `;\n",
              "      div.appendChild(label);\n",
              "      const progress = document.createElement('progress');\n",
              "      progress.max = size;\n",
              "      div.appendChild(progress);\n",
              "      document.body.appendChild(div);\n",
              "\n",
              "      const buffers = [];\n",
              "      let downloaded = 0;\n",
              "\n",
              "      const channel = await google.colab.kernel.comms.open(id);\n",
              "      // Send a message to notify the kernel that we're ready.\n",
              "      channel.send({})\n",
              "\n",
              "      for await (const message of channel.messages) {\n",
              "        // Send a message to notify the kernel that we're ready.\n",
              "        channel.send({})\n",
              "        if (message.buffers) {\n",
              "          for (const buffer of message.buffers) {\n",
              "            buffers.push(buffer);\n",
              "            downloaded += buffer.byteLength;\n",
              "            progress.value = downloaded;\n",
              "          }\n",
              "        }\n",
              "      }\n",
              "      const blob = new Blob(buffers, {type: 'application/binary'});\n",
              "      const a = document.createElement('a');\n",
              "      a.href = window.URL.createObjectURL(blob);\n",
              "      a.download = filename;\n",
              "      div.appendChild(a);\n",
              "      a.click();\n",
              "      div.remove();\n",
              "    }\n",
              "  "
            ]
          },
          "metadata": {}
        },
        {
          "output_type": "display_data",
          "data": {
            "text/plain": [
              "<IPython.core.display.Javascript object>"
            ],
            "application/javascript": [
              "download(\"download_99a9dabe-5d7d-43ad-88e0-adab0f409717\", \"model_files.zip\", 40420)"
            ]
          },
          "metadata": {}
        }
      ]
    },
    {
      "cell_type": "code",
      "source": [],
      "metadata": {
        "id": "xVSeRoq2hIkR"
      },
      "execution_count": null,
      "outputs": []
    },
    {
      "cell_type": "code",
      "source": [],
      "metadata": {
        "id": "mceP253ZFtHE"
      },
      "execution_count": null,
      "outputs": []
    },
    {
      "cell_type": "code",
      "source": [],
      "metadata": {
        "id": "etrkCSUgFtJ2"
      },
      "execution_count": null,
      "outputs": []
    },
    {
      "cell_type": "code",
      "source": [],
      "metadata": {
        "id": "ulnmAIDEFtQ6"
      },
      "execution_count": null,
      "outputs": []
    },
    {
      "cell_type": "code",
      "source": [
        "import pandas as pd\n",
        "import numpy as np\n",
        "from sklearn.ensemble import RandomForestClassifier\n",
        "from sklearn.model_selection import train_test_split\n",
        "from sklearn.preprocessing import StandardScaler\n",
        "from sklearn.metrics import classification_report, confusion_matrix\n",
        "import matplotlib.pyplot as plt\n",
        "import seaborn as sns\n",
        "\n",
        "# Load and preprocess the data\n",
        "file_path = \"Final_1.csv\"\n",
        "data = pd.read_csv(file_path)\n",
        "\n",
        "# Select attributes\n",
        "attributes = [\n",
        "    \"Account_Age(months)\",\n",
        "    \"Frequency_credential_change(per year)\",\n",
        "    \"Return_to_Order\",\n",
        "    \"VPN/Temp_Mail?\",\n",
        "    \"Credit Score\"\n",
        "]\n",
        "\n",
        "# Preprocess the data\n",
        "if \"VPN/Temp_Mail?\" in data.columns:\n",
        "    data[\"VPN/Temp_Mail?\"] = data[\"VPN/Temp_Mail?\"].map({\"Yes\": 1, \"No\": 0})\n",
        "if \"Fraud/NOT\" in data.columns:\n",
        "    data[\"Fraud/NOT\"] = data[\"Fraud/NOT\"].map({\"Yes\": 1, \"No\": 0})\n",
        "\n",
        "# Drop rows with missing values\n",
        "data = data.dropna(subset=attributes + [\"Fraud/NOT\"])\n",
        "\n",
        "# Split features and target\n",
        "X = data[attributes]\n",
        "y = data[\"Fraud/NOT\"]\n",
        "\n",
        "# Scale the features\n",
        "scaler = StandardScaler()\n",
        "X_scaled = scaler.fit_transform(X)\n",
        "\n",
        "# Split the data\n",
        "X_train, X_test, y_train, y_test = train_test_split(X_scaled, y, test_size=0.2, random_state=42)\n",
        "\n",
        "# Create and train the Random Forest model\n",
        "rf_model = RandomForestClassifier(\n",
        "    n_estimators=100,\n",
        "    max_depth=None,\n",
        "    min_samples_split=2,\n",
        "    min_samples_leaf=1,\n",
        "    random_state=42\n",
        ")\n",
        "\n",
        "# Train the model\n",
        "rf_model.fit(X_train, y_train)\n",
        "\n",
        "# Make predictions\n",
        "y_pred = rf_model.predict(X_test)\n",
        "y_pred_prob = rf_model.predict_proba(X_test)\n",
        "\n",
        "# Print classification report\n",
        "print(\"Classification Report:\")\n",
        "print(classification_report(y_test, y_pred))\n",
        "\n",
        "# Plot feature importance\n",
        "def plot_feature_importance(model, feature_names):\n",
        "    importances = model.feature_importances_\n",
        "    indices = np.argsort(importances)[::-1]\n",
        "\n",
        "    plt.figure(figsize=(10, 6))\n",
        "    plt.title(\"Feature Importances in Random Forest Model\")\n",
        "    plt.bar(range(X.shape[1]), importances[indices])\n",
        "    plt.xticks(range(X.shape[1]), [feature_names[i] for i in indices], rotation=45, ha='right')\n",
        "    plt.tight_layout()\n",
        "    plt.show()\n",
        "\n",
        "# Plot confusion matrix\n",
        "def plot_confusion_matrix(y_true, y_pred):\n",
        "    cm = confusion_matrix(y_true, y_pred)\n",
        "    plt.figure(figsize=(8, 6))\n",
        "    sns.heatmap(cm, annot=True, fmt='d', cmap='Blues')\n",
        "    plt.title('Confusion Matrix')\n",
        "    plt.ylabel('True Label')\n",
        "    plt.xlabel('Predicted Label')\n",
        "    plt.tight_layout()\n",
        "    plt.show()\n",
        "\n",
        "# Function to predict new instances\n",
        "def predict_new_instance(model, scaler, instance_data):\n",
        "    \"\"\"\n",
        "    Predict fraud probability for a new instance\n",
        "    \"\"\"\n",
        "    # Scale the instance\n",
        "    instance_scaled = scaler.transform([instance_data])\n",
        "\n",
        "    # Get prediction and probability\n",
        "    prediction = model.predict(instance_scaled)[0]\n",
        "    probability = model.predict_proba(instance_scaled)[0]\n",
        "\n",
        "    return \"Fraud\" if prediction == 1 else \"Not Fraud\", probability\n",
        "\n",
        "# Plot feature importance\n",
        "# plot_feature_importance(rf_model, attributes)\n",
        "\n",
        "# Plot confusion matrix\n",
        "plot_confusion_matrix(y_test, y_pred)\n",
        "\n",
        "# Example prediction for a new instance\n",
        "new_instance = [3, 6, 1, 0, 650]  # Example values\n",
        "predicted_class, probabilities = predict_new_instance(rf_model, scaler, new_instance)\n",
        "\n",
        "print(\"\\nPrediction for new instance:\")\n",
        "print(f\"Predicted Class: {predicted_class}\")\n",
        "print(f\"Probability of Not Fraud: {probabilities[0]:.2%}\")\n",
        "print(f\"Probability of Fraud: {probabilities[1]:.2%}\")\n",
        "\n",
        "# Save the model and scaler (if needed)\n",
        "import joblib\n",
        "\n",
        "joblib.dump(rf_model, 'random_forest_model.joblib')\n",
        "joblib.dump(scaler, 'rf_scaler.joblib')"
      ],
      "metadata": {
        "colab": {
          "base_uri": "https://localhost:8080/",
          "height": 948
        },
        "id": "_O9Mz_MgFtVc",
        "outputId": "405df51f-fd4d-4ee1-c152-407bae2a5c59"
      },
      "execution_count": null,
      "outputs": [
        {
          "output_type": "stream",
          "name": "stdout",
          "text": [
            "Classification Report:\n",
            "              precision    recall  f1-score   support\n",
            "\n",
            "           0       0.95      0.99      0.97      1618\n",
            "           1       0.92      0.76      0.83       375\n",
            "\n",
            "    accuracy                           0.94      1993\n",
            "   macro avg       0.93      0.87      0.90      1993\n",
            "weighted avg       0.94      0.94      0.94      1993\n",
            "\n"
          ]
        },
        {
          "output_type": "display_data",
          "data": {
            "text/plain": [
              "<Figure size 800x600 with 2 Axes>"
            ],
            "image/png": "[encoded data removed]"
          },
          "metadata": {}
        },
        {
          "output_type": "stream",
          "name": "stdout",
          "text": [
            "\n",
            "Prediction for new instance:\n",
            "Predicted Class: Fraud\n",
            "Probability of Not Fraud: 25.00%\n",
            "Probability of Fraud: 75.00%\n"
          ]
        },
        {
          "output_type": "stream",
          "name": "stderr",
          "text": [
            "/usr/local/lib/python3.11/dist-packages/sklearn/utils/validation.py:2739: UserWarning: X does not have valid feature names, but StandardScaler was fitted with feature names\n",
            "  warnings.warn(\n"
          ]
        },
        {
          "output_type": "execute_result",
          "data": {
            "text/plain": [
              "['rf_scaler.joblib']"
            ]
          },
          "metadata": {},
          "execution_count": 9
        }
      ]
    },
    {
      "cell_type": "code",
      "source": [
        "import pandas as pd\n",
        "import numpy as np\n",
        "from sklearn.ensemble import RandomForestClassifier\n",
        "from sklearn.preprocessing import StandardScaler\n",
        "import joblib\n",
        "\n",
        "from google.colab import files\n",
        "\n",
        "\n",
        "# Train your model (assuming you've already done this)\n",
        "# ... (your training code) ...\n",
        "\n",
        "# Save both the model and scaler\n",
        "joblib.dump(rf_model, 'random_forest_model.joblib')\n",
        "joblib.dump(scaler, 'rf_scaler.joblib')\n",
        "\n",
        "\n",
        "\n",
        "\n",
        "\n",
        "!zip -r model_files_rf.zip random_forest_model.joiblib rf_scaler.joblib\n",
        "\n",
        "# 4. Download the zip file\n",
        "files.download('model_files_rf.zip')"
      ],
      "metadata": {
        "colab": {
          "base_uri": "https://localhost:8080/",
          "height": 53
        },
        "id": "-gYoiYXfF-EZ",
        "outputId": "d2ab2285-ff6d-4cae-8a72-daeafeae7612"
      },
      "execution_count": null,
      "outputs": [
        {
          "output_type": "stream",
          "name": "stdout",
          "text": [
            "\tzip warning: name not matched: random_forest_model.joiblib\n",
            "  adding: rf_scaler.joblib (deflated 30%)\n"
          ]
        },
        {
          "output_type": "display_data",
          "data": {
            "text/plain": [
              "<IPython.core.display.Javascript object>"
            ],
            "application/javascript": [
              "\n",
              "    async function download(id, filename, size) {\n",
              "      if (!google.colab.kernel.accessAllowed) {\n",
              "        return;\n",
              "      }\n",
              "      const div = document.createElement('div');\n",
              "      const label = document.createElement('label');\n",
              "      label.textContent = `Downloading \"${filename}\": `;\n",
              "      div.appendChild(label);\n",
              "      const progress = document.createElement('progress');\n",
              "      progress.max = size;\n",
              "      div.appendChild(progress);\n",
              "      document.body.appendChild(div);\n",
              "\n",
              "      const buffers = [];\n",
              "      let downloaded = 0;\n",
              "\n",
              "      const channel = await google.colab.kernel.comms.open(id);\n",
              "      // Send a message to notify the kernel that we're ready.\n",
              "      channel.send({})\n",
              "\n",
              "      for await (const message of channel.messages) {\n",
              "        // Send a message to notify the kernel that we're ready.\n",
              "        channel.send({})\n",
              "        if (message.buffers) {\n",
              "          for (const buffer of message.buffers) {\n",
              "            buffers.push(buffer);\n",
              "            downloaded += buffer.byteLength;\n",
              "            progress.value = downloaded;\n",
              "          }\n",
              "        }\n",
              "      }\n",
              "      const blob = new Blob(buffers, {type: 'application/binary'});\n",
              "      const a = document.createElement('a');\n",
              "      a.href = window.URL.createObjectURL(blob);\n",
              "      a.download = filename;\n",
              "      div.appendChild(a);\n",
              "      a.click();\n",
              "      div.remove();\n",
              "    }\n",
              "  "
            ]
          },
          "metadata": {}
        },
        {
          "output_type": "display_data",
          "data": {
            "text/plain": [
              "<IPython.core.display.Javascript object>"
            ],
            "application/javascript": [
              "download(\"download_563f3669-287b-4f87-b998-2b0d98e32561\", \"model_files_rf.zip\", 992)"
            ]
          },
          "metadata": {}
        }
      ]
    },
    {
      "cell_type": "code",
      "source": [],
      "metadata": {
        "id": "gituuZ-qGgAh"
      },
      "execution_count": null,
      "outputs": []
    },
    {
      "cell_type": "code",
      "source": [],
      "metadata": {
        "id": "xOj4E2y-GgDx"
      },
      "execution_count": null,
      "outputs": []
    },
    {
      "cell_type": "code",
      "source": [
        "import pandas as pd\n",
        "from sklearn.model_selection import train_test_split\n",
        "from sklearn.neighbors import KNeighborsClassifier\n",
        "from sklearn.preprocessing import StandardScaler\n",
        "from sklearn.metrics import accuracy_score\n",
        "\n",
        "# # Load the dataset\n",
        "file_path = \"Final_1.csv\"  # Replace with the correct path\n",
        "data = pd.read_csv(file_path)\n",
        "\n",
        "# Select attributes for classification\n",
        "attributes = [\n",
        "    \"Account_Age(months)\",\n",
        "    \"Frequency_credential_change(per year)\",\n",
        "    \"Return_to_Order\",\n",
        "    \"VPN/Temp_Mail?\",\n",
        "    \"Credit Score\"\n",
        "]\n",
        "\n",
        "# # Preprocess the data\n",
        "# # Convert categorical columns to numeric if necessary\n",
        "if \"VPN/Temp_Mail?\" in data.columns:\n",
        "    data[\"VPN/Temp_Mail?\"] = data[\"VPN/Temp_Mail?\"].map({\"Yes\": 1, \"No\": 0})\n",
        "\n",
        "if \"Fraud/NOT\" in data.columns:\n",
        "    data[\"Fraud/NOT\"] = data[\"Fraud/NOT\"].map({\"Yes\": 1, \"No\": 0})\n",
        "\n",
        "# # Drop rows with missing values in the selected columns\n",
        "data = data.dropna(subset=attributes + [\"Fraud/NOT\"])\n",
        "\n",
        "# # Split the data into features (X) and target (y)\n",
        "X = data[attributes]\n",
        "y = data[\"Fraud/NOT\"]\n",
        "\n",
        "# # Standardize the features\n",
        "scaler = StandardScaler()\n",
        "X_scaled = scaler.fit_transform(X)\n",
        "\n",
        "# # Split the data into training and testing sets\n",
        "X_train, X_test, y_train, y_test = train_test_split(X_scaled, y, test_size=0.2, random_state=42)\n",
        "\n",
        "# Train the KNN model\n",
        "k = 30  # Number of neighbors\n",
        "knn = KNeighborsClassifier(n_neighbors=k)\n",
        "knn.fit(X_train, y_train)\n",
        "\n",
        "# Evaluate the model\n",
        "y_pred = knn.predict(X_test)\n",
        "accuracy = accuracy_score(y_test, y_pred)\n",
        "print(f\"Model Accuracy: {accuracy * 100:.2f}%\")\n",
        "\n",
        "# Classify a new instance\n",
        "def classify_instance(new_instance):\n",
        "    # Ensure the new instance has the same scale\n",
        "    new_instance_scaled = scaler.transform([new_instance])\n",
        "    prediction = knn.predict(new_instance_scaled)\n",
        "    return \"Fraud\" if prediction[0] == 1 else \"Not Fraud\"\n",
        "\n",
        "# # Example usage\n",
        "new_instance = [25, 0.5, 0.4, 0, 800]  # Replace with real attribute values\n",
        "predicted_class = classify_instance(new_instance)\n",
        "print(f\"Predicted Class for the new instance: {predicted_class}\")\n",
        "\n"
      ],
      "metadata": {
        "colab": {
          "base_uri": "https://localhost:8080/"
        },
        "id": "10slrsQvGgF5",
        "outputId": "61cf0f70-d5be-46b6-970f-df632e64b3dc"
      },
      "execution_count": null,
      "outputs": [
        {
          "output_type": "stream",
          "name": "stdout",
          "text": [
            "Model Accuracy: 94.33%\n",
            "Predicted Class for the new instance: Not Fraud\n"
          ]
        },
        {
          "output_type": "stream",
          "name": "stderr",
          "text": [
            "/usr/local/lib/python3.11/dist-packages/sklearn/utils/validation.py:2739: UserWarning: X does not have valid feature names, but StandardScaler was fitted with feature names\n",
            "  warnings.warn(\n"
          ]
        }
      ]
    },
    {
      "cell_type": "code",
      "source": [
        "import pandas as pd\n",
        "from sklearn.model_selection import train_test_split\n",
        "from sklearn.neighbors import KNeighborsClassifier\n",
        "from sklearn.preprocessing import StandardScaler\n",
        "from sklearn.metrics import accuracy_score, confusion_matrix, classification_report\n",
        "import matplotlib.pyplot as plt\n",
        "import seaborn as sns\n",
        "\n",
        "# [Previous code remains the same until model evaluation]\n",
        "\n",
        "# Create and plot confusion matrix\n",
        "def plot_confusion_matrix(y_true, y_pred):\n",
        "    # Calculate confusion matrix\n",
        "    cm = confusion_matrix(y_true, y_pred)\n",
        "\n",
        "    # Create a figure and axis\n",
        "    plt.figure(figsize=(8, 6))\n",
        "\n",
        "    # Create heatmap\n",
        "    sns.heatmap(cm, annot=True, fmt='d', cmap='Blues')\n",
        "\n",
        "    # Add labels and title\n",
        "    plt.title('Confusion Matrix for KNN Fraud Detection')\n",
        "    plt.ylabel('True Label')\n",
        "    plt.xlabel('Predicted Label')\n",
        "\n",
        "    # Add label text for each quadrant\n",
        "    plt.text(-0.3, 0.5, 'Not Fraud', rotation=90, verticalalignment='center')\n",
        "    plt.text(-0.3, 1.5, 'Fraud', rotation=90, verticalalignment='center')\n",
        "    plt.text(0.5, -0.1, 'Not Fraud', horizontalalignment='center')\n",
        "    plt.text(1.5, -0.1, 'Fraud', horizontalalignment='center')\n",
        "\n",
        "    plt.tight_layout()\n",
        "    plt.show()\n",
        "\n",
        "    return cm\n",
        "\n",
        "# Generate predictions\n",
        "y_pred = knn.predict(X_test)\n",
        "\n",
        "# Plot confusion matrix\n",
        "cm = plot_confusion_matrix(y_test, y_pred)\n",
        "\n",
        "# Calculate and print detailed metrics\n",
        "tn, fp, fn, tp = cm.ravel()\n",
        "precision = tp / (tp + fp)\n",
        "recall = tp / (tp + fn)\n",
        "f1_score = 2 * (precision * recall) / (precision + recall)\n",
        "\n",
        "print(\"\\nDetailed Classification Metrics:\")\n",
        "print(\"-\" * 30)\n",
        "print(f\"True Negatives (Correct Non-Fraud): {tn}\")\n",
        "print(f\"False Positives (Incorrect Fraud): {fp}\")\n",
        "print(f\"False Negatives (Missed Fraud): {fn}\")\n",
        "print(f\"True Positives (Correct Fraud): {tp}\")\n",
        "print(f\"\\nPrecision: {precision:.4f}\")\n",
        "print(f\"Recall: {recall:.4f}\")\n",
        "print(f\"F1 Score: {f1_score:.4f}\")\n",
        "\n",
        "# Print classification report\n",
        "print(\"\\nClassification Report:\")\n",
        "print(\"-\" * 30)\n",
        "print(classification_report(y_test, y_pred))"
      ],
      "metadata": {
        "colab": {
          "base_uri": "https://localhost:8080/",
          "height": 1000
        },
        "id": "gRbY_LccGgHz",
        "outputId": "e8de6c64-5ca6-4e7f-8d81-bad1ce2478dd"
      },
      "execution_count": null,
      "outputs": [
        {
          "output_type": "display_data",
          "data": {
            "text/plain": [
              "<Figure size 800x600 with 2 Axes>"
            ],
            "image/png": "[encoded data removed]"
          },
          "metadata": {}
        },
        {
          "output_type": "stream",
          "name": "stdout",
          "text": [
            "\n",
            "Detailed Classification Metrics:\n",
            "------------------------------\n",
            "True Negatives (Correct Non-Fraud): 1594\n",
            "False Positives (Incorrect Fraud): 24\n",
            "False Negatives (Missed Fraud): 89\n",
            "True Positives (Correct Fraud): 286\n",
            "\n",
            "Precision: 0.9226\n",
            "Recall: 0.7627\n",
            "F1 Score: 0.8350\n",
            "\n",
            "Classification Report:\n",
            "------------------------------\n",
            "              precision    recall  f1-score   support\n",
            "\n",
            "           0       0.95      0.99      0.97      1618\n",
            "           1       0.92      0.76      0.84       375\n",
            "\n",
            "    accuracy                           0.94      1993\n",
            "   macro avg       0.93      0.87      0.90      1993\n",
            "weighted avg       0.94      0.94      0.94      1993\n",
            "\n"
          ]
        }
      ]
    },
    {
      "cell_type": "code",
      "source": [],
      "metadata": {
        "id": "STE9fKeuJocR"
      },
      "execution_count": null,
      "outputs": []
    },
    {
      "cell_type": "code",
      "source": [],
      "metadata": {
        "id": "_b9tmz3TkyvL"
      },
      "execution_count": null,
      "outputs": []
    },
    {
      "cell_type": "code",
      "source": [],
      "metadata": {
        "id": "MVZHaRmEky4j"
      },
      "execution_count": null,
      "outputs": []
    },
    {
      "cell_type": "code",
      "source": [],
      "metadata": {
        "id": "wmNeCepTky68"
      },
      "execution_count": null,
      "outputs": []
    },
    {
      "cell_type": "code",
      "source": [],
      "metadata": {
        "id": "wDS2_7Nbky-2"
      },
      "execution_count": null,
      "outputs": []
    },
    {
      "cell_type": "code",
      "source": [],
      "metadata": {
        "id": "J45lRWmFkzAs"
      },
      "execution_count": null,
      "outputs": []
    },
    {
      "cell_type": "code",
      "source": [],
      "metadata": {
        "id": "7GNLcE7ekzEH"
      },
      "execution_count": null,
      "outputs": []
    },
    {
      "cell_type": "code",
      "source": [],
      "metadata": {
        "id": "SPUppVAhkzHU"
      },
      "execution_count": null,
      "outputs": []
    },
    {
      "cell_type": "code",
      "source": [],
      "metadata": {
        "id": "WbGWgbfnkzI5"
      },
      "execution_count": null,
      "outputs": []
    },
    {
      "cell_type": "code",
      "source": [],
      "metadata": {
        "id": "hOOYEcgHkzL7"
      },
      "execution_count": null,
      "outputs": []
    },
    {
      "cell_type": "code",
      "source": [],
      "metadata": {
        "id": "UI6DxKKpkzN1"
      },
      "execution_count": null,
      "outputs": []
    },
    {
      "cell_type": "code",
      "source": [],
      "metadata": {
        "id": "kxWtkETzkzQu"
      },
      "execution_count": null,
      "outputs": []
    },
    {
      "cell_type": "code",
      "source": [
        "##try nn2"
      ],
      "metadata": {
        "id": "djYGzEz8kzVC"
      },
      "execution_count": null,
      "outputs": []
    },
    {
      "cell_type": "code",
      "source": [],
      "metadata": {
        "id": "4EXQYpT4k1Ic"
      },
      "execution_count": null,
      "outputs": []
    },
    {
      "cell_type": "code",
      "source": [
        "# train.py - Model Training and Saving\n",
        "import pandas as pd\n",
        "import numpy as np\n",
        "from sklearn.preprocessing import StandardScaler\n",
        "from sklearn.model_selection import train_test_split\n",
        "import tensorflow as tf\n",
        "from tensorflow.keras import layers, models\n",
        "import matplotlib.pyplot as plt\n",
        "import joblib\n",
        "\n",
        "def load_and_preprocess_data(file_path):\n",
        "    data = pd.read_csv(file_path)\n",
        "\n",
        "    attributes = [\n",
        "        \"Account_Age(months)\",\n",
        "        \"Frequency_credential_change(per year)\",\n",
        "        \"Return_to_Order\",\n",
        "        \"VPN/Temp_Mail?\",\n",
        "        \"Credit Score\"\n",
        "    ]\n",
        "\n",
        "    if \"VPN/Temp_Mail?\" in data.columns:\n",
        "        data[\"VPN/Temp_Mail?\"] = data[\"VPN/Temp_Mail?\"].map({\"Yes\": 1, \"No\": 0})\n",
        "    if \"Fraud/NOT\" in data.columns:\n",
        "        data[\"Fraud/NOT\"] = data[\"Fraud/NOT\"].map({\"Yes\": 1, \"No\": 0})\n",
        "\n",
        "    data = data.dropna(subset=attributes + [\"Fraud/NOT\"])\n",
        "\n",
        "    return data, attributes\n",
        "\n",
        "def create_model(input_dim):\n",
        "    model = models.Sequential([\n",
        "        layers.Input(shape=(input_dim,)),\n",
        "        layers.Dense(64, activation='relu'),\n",
        "        layers.Dropout(0.3),\n",
        "        layers.Dense(32, activation='relu'),\n",
        "        layers.Dropout(0.2),\n",
        "        layers.Dense(16, activation='relu'),\n",
        "        layers.Dropout(0.2),\n",
        "        layers.Dense(8, activation='relu'),\n",
        "        layers.Dropout(0.1),\n",
        "        layers.Dense(1, activation='sigmoid')\n",
        "    ])\n",
        "\n",
        "    return model\n",
        "\n",
        "def train_and_save_model():\n",
        "    # Load and preprocess data\n",
        "    data, attributes = load_and_preprocess_data(\"Final_1.csv\")  # Replace with your data path\n",
        "\n",
        "    # Split features and target\n",
        "    X = data[attributes]\n",
        "    y = data[\"Fraud/NOT\"]\n",
        "\n",
        "    # Scale features\n",
        "    scaler = StandardScaler()\n",
        "    X_scaled = scaler.fit_transform(X)\n",
        "\n",
        "    # Save the scaler\n",
        "    joblib.dump(scaler, 'scaler.save')\n",
        "\n",
        "    # Split the data\n",
        "    X_train, X_test, y_train, y_test = train_test_split(X_scaled, y, test_size=0.2, random_state=42)\n",
        "\n",
        "    # Create and compile model\n",
        "    model = create_model(X_train.shape[1])\n",
        "    model.compile(\n",
        "        optimizer='adam',\n",
        "        loss='binary_crossentropy',\n",
        "        metrics=['accuracy']\n",
        "    )\n",
        "\n",
        "    # Train the model\n",
        "    early_stopping = tf.keras.callbacks.EarlyStopping(\n",
        "        monitor='val_loss',\n",
        "        patience=10,\n",
        "        restore_best_weights=True\n",
        "    )\n",
        "\n",
        "    history = model.fit(\n",
        "        X_train, y_train,\n",
        "        epochs=10,\n",
        "        batch_size=32,\n",
        "        validation_split=0.2,\n",
        "        callbacks=[early_stopping],\n",
        "        verbose=1\n",
        "    )\n",
        "\n",
        "    # Evaluate model\n",
        "    test_loss, test_accuracy = model.evaluate(X_test, y_test)\n",
        "    print(f\"\\nTest Accuracy: {test_accuracy:.4f}\")\n",
        "\n",
        "    # Save the model with .keras extension\n",
        "    model.save('fraud_detection_model.keras')\n",
        "\n",
        "    return history, model, scaler\n",
        "\n",
        "if __name__ == \"__main__\":\n",
        "    history, model, scaler = train_and_save_model()"
      ],
      "metadata": {
        "colab": {
          "base_uri": "https://localhost:8080/"
        },
        "id": "4n72sALwk1Ky",
        "outputId": "f2c0dbc1-b5f3-4cd7-c3bc-601375645f04"
      },
      "execution_count": null,
      "outputs": [
        {
          "output_type": "stream",
          "name": "stdout",
          "text": [
            "Epoch 1/10\n",
            "\u001b[1m200/200\u001b[0m \u001b[32m━━━━━━━━━━━━━━━━━━━━\u001b[0m\u001b[37m\u001b[0m \u001b[1m9s\u001b[0m 17ms/step - accuracy: 0.8355 - loss: 0.5105 - val_accuracy: 0.9423 - val_loss: 0.2294\n",
            "Epoch 2/10\n",
            "\u001b[1m200/200\u001b[0m \u001b[32m━━━━━━━━━━━━━━━━━━━━\u001b[0m\u001b[37m\u001b[0m \u001b[1m1s\u001b[0m 3ms/step - accuracy: 0.9288 - loss: 0.2573 - val_accuracy: 0.9423 - val_loss: 0.2240\n",
            "Epoch 3/10\n",
            "\u001b[1m200/200\u001b[0m \u001b[32m━━━━━━━━━━━━━━━━━━━━\u001b[0m\u001b[37m\u001b[0m \u001b[1m1s\u001b[0m 4ms/step - accuracy: 0.9317 - loss: 0.2671 - val_accuracy: 0.9423 - val_loss: 0.2214\n",
            "Epoch 4/10\n",
            "\u001b[1m200/200\u001b[0m \u001b[32m━━━━━━━━━━━━━━━━━━━━\u001b[0m\u001b[37m\u001b[0m \u001b[1m1s\u001b[0m 6ms/step - accuracy: 0.9321 - loss: 0.2558 - val_accuracy: 0.9423 - val_loss: 0.2210\n",
            "Epoch 5/10\n",
            "\u001b[1m200/200\u001b[0m \u001b[32m━━━━━━━━━━━━━━━━━━━━\u001b[0m\u001b[37m\u001b[0m \u001b[1m2s\u001b[0m 2ms/step - accuracy: 0.9356 - loss: 0.2413 - val_accuracy: 0.9423 - val_loss: 0.2214\n",
            "Epoch 6/10\n",
            "\u001b[1m200/200\u001b[0m \u001b[32m━━━━━━━━━━━━━━━━━━━━\u001b[0m\u001b[37m\u001b[0m \u001b[1m1s\u001b[0m 2ms/step - accuracy: 0.9383 - loss: 0.2465 - val_accuracy: 0.9423 - val_loss: 0.2233\n",
            "Epoch 7/10\n",
            "\u001b[1m200/200\u001b[0m \u001b[32m━━━━━━━━━━━━━━━━━━━━\u001b[0m\u001b[37m\u001b[0m \u001b[1m1s\u001b[0m 3ms/step - accuracy: 0.9340 - loss: 0.2512 - val_accuracy: 0.9423 - val_loss: 0.2210\n",
            "Epoch 8/10\n",
            "\u001b[1m200/200\u001b[0m \u001b[32m━━━━━━━━━━━━━━━━━━━━\u001b[0m\u001b[37m\u001b[0m \u001b[1m0s\u001b[0m 2ms/step - accuracy: 0.9400 - loss: 0.2363 - val_accuracy: 0.9423 - val_loss: 0.2211\n",
            "Epoch 9/10\n",
            "\u001b[1m200/200\u001b[0m \u001b[32m━━━━━━━━━━━━━━━━━━━━\u001b[0m\u001b[37m\u001b[0m \u001b[1m0s\u001b[0m 2ms/step - accuracy: 0.9386 - loss: 0.2384 - val_accuracy: 0.9423 - val_loss: 0.2201\n",
            "Epoch 10/10\n",
            "\u001b[1m200/200\u001b[0m \u001b[32m━━━━━━━━━━━━━━━━━━━━\u001b[0m\u001b[37m\u001b[0m \u001b[1m1s\u001b[0m 2ms/step - accuracy: 0.9375 - loss: 0.2539 - val_accuracy: 0.9423 - val_loss: 0.2205\n",
            "\u001b[1m63/63\u001b[0m \u001b[32m━━━━━━━━━━━━━━━━━━━━\u001b[0m\u001b[37m\u001b[0m \u001b[1m0s\u001b[0m 3ms/step - accuracy: 0.9387 - loss: 0.2360\n",
            "\n",
            "Test Accuracy: 0.9433\n"
          ]
        }
      ]
    },
    {
      "cell_type": "code",
      "source": [
        "\n",
        "from huggingface_hub import HfApi, create_repo, upload_file\n",
        "import os\n",
        "import sys\n",
        "from pathlib import Path\n",
        "\n",
        "def deploy_to_huggingface(\n",
        "    model_path='fraud_detection_model.keras',\n",
        "    scaler_path='scaler.save',\n",
        "    repo_name='NiharMandahas/NN_EL',\n",
        "    token='YOUR_HUGGING_FACE_TOKEN'\n",
        "):\n",
        "    \"\"\"\n",
        "    Deploy existing joblib files to Hugging Face\n",
        "\n",
        "    Args:\n",
        "        model_path (str): Path to the saved model file\n",
        "        scaler_path (str): Path to the saved scaler file\n",
        "        repo_name (str): Name of the Hugging Face repository (username/repo-name)\n",
        "        token (str): Hugging Face API token\n",
        "\n",
        "    Returns:\n",
        "        str: URL of the deployed model repository\n",
        "    \"\"\"\n",
        "    # Validate input files exist\n",
        "    if not Path(model_path).exists():\n",
        "        raise FileNotFoundError(f\"Model file not found: {model_path}\")\n",
        "    if not Path(scaler_path).exists():\n",
        "        raise FileNotFoundError(f\"Scaler file not found: {scaler_path}\")\n",
        "\n",
        "    # Validate token\n",
        "    if token == 'your_token_here':\n",
        "        raise ValueError(\"Please provide a valid Hugging Face API token\")\n",
        "\n",
        "    # Initialize Hugging Face API\n",
        "    try:\n",
        "        api = HfApi()\n",
        "        # Verify token works by getting user info\n",
        "        user = api.whoami(token=token)\n",
        "        print(f\"Authenticated as: {user['name']}\")\n",
        "    except Exception as e:\n",
        "        raise Exception(f\"Failed to initialize Hugging Face API: {str(e)}\")\n",
        "\n",
        "    # Create repository (if it doesn't exist)\n",
        "    try:\n",
        "        create_repo(repo_name, token=token, exist_ok=True)\n",
        "        print(f\"Repository ready: {repo_name}\")\n",
        "    except Exception as e:\n",
        "        raise Exception(f\"Failed to create/verify repository: {str(e)}\")\n",
        "\n",
        "    # Create model card\n",
        "    model_card = \"\"\"---\n",
        "tags:\n",
        "- fraud-detection\n",
        "- random-forest\n",
        "- sklearn\n",
        "library_name: sklearn\n",
        "pipeline_tag: tabular-classification\n",
        "---\n",
        "\n",
        "# Random Forest Fraud Detection Model\n",
        "\n",
        "This model uses Random Forest classification to detect potential fraud based on various account and transaction features.\n",
        "\n",
        "## Model Description\n",
        "\n",
        "- **Input Features:**\n",
        "  - Account Age (months)\n",
        "  - Frequency of credential changes (per year)\n",
        "  - Return to Order ratio\n",
        "  - VPN/Temp Mail usage (binary)\n",
        "  - Credit Score\n",
        "\n",
        "- **Output:** Binary classification (Fraud/Not Fraud)\n",
        "- **Type:** Random Forest Classifier\n",
        "\n",
        "## Usage\n",
        "\n",
        "```python\n",
        "import joblib\n",
        "import numpy as np\n",
        "\n",
        "# Load model and scaler\n",
        "model = joblib.load('random_forest_model.joblib')\n",
        "scaler = joblib.load('rf_scaler.joblib')\n",
        "\n",
        "# Prepare input (example)\n",
        "input_data = np.array([[25, 0.5, 0.4, 0, 800]])\n",
        "\n",
        "# Scale input\n",
        "scaled_input = scaler.transform(input_data)\n",
        "\n",
        "# Get prediction\n",
        "prediction = model.predict(scaled_input)\n",
        "probability = model.predict_proba(scaled_input)\n",
        "```\n",
        "\n",
        "## Limitations and Bias\n",
        "\n",
        "This model should be used as part of a larger fraud detection system and not in isolation.\n",
        "\"\"\"\n",
        "\n",
        "    # Save model card\n",
        "    readme_path = Path('README.md')\n",
        "    try:\n",
        "        with open(readme_path, 'w') as f:\n",
        "            f.write(model_card)\n",
        "        print(\"Created README.md\")\n",
        "    except Exception as e:\n",
        "        raise Exception(f\"Failed to create README.md: {str(e)}\")\n",
        "\n",
        "    # Files to upload\n",
        "    files_to_upload = {\n",
        "        model_path: \"fraud_detection_model.keras\",\n",
        "        scaler_path: \"scaler.save\",\n",
        "        str(readme_path): 'README.md'\n",
        "    }\n",
        "\n",
        "    # Upload files\n",
        "    for local_path, hf_path in files_to_upload.items():\n",
        "        try:\n",
        "            print(f\"Uploading {local_path}...\")\n",
        "            api.upload_file(\n",
        "                path_or_fileobj=local_path,\n",
        "                path_in_repo=hf_path,\n",
        "                repo_id=repo_name,\n",
        "                token=token\n",
        "            )\n",
        "            print(f\"Successfully uploaded {local_path} to {hf_path}\")\n",
        "        except Exception as e:\n",
        "            raise Exception(f\"Failed to upload {local_path}: {str(e)}\")\n",
        "\n",
        "    repo_url = f\"https://huggingface.co/{repo_name}\"\n",
        "    print(f\"\\nDeployment complete! Your model is available at: {repo_url}\")\n",
        "    return repo_url\n",
        "\n",
        "\n",
        "\n",
        "\n",
        "\n",
        "# Example usage\n",
        "if __name__ == \"__main__\":\n",
        "    try:\n",
        "        url = deploy_to_huggingface(\n",
        "            model_path= \"fraud_detection_model.keras\",\n",
        "            scaler_path= \"scaler.save\",\n",
        "            repo_name='NiharMandahas/NN_EL',\n",
        "            token='YOUR_TOKEN_HERE'\n",
        "        )\n",
        "        print(f\"Successfully deployed to: {url}\")\n",
        "    except Exception as e:\n",
        "        print(f\"Deployment failed: {str(e)}\")\n",
        "        sys.exit(1)"
      ],
      "metadata": {
        "colab": {
          "base_uri": "https://localhost:8080/"
        },
        "id": "cSB-8hBpk1NN",
        "outputId": "6e536ff4-91f2-4205-f10e-b0c840e69c11"
      },
      "execution_count": null,
      "outputs": [
        {
          "output_type": "stream",
          "name": "stdout",
          "text": [
            "Authenticated as: NiharMandahas\n",
            "Repository ready: NiharMandahas/NN_EL\n",
            "Created README.md\n",
            "Uploading fraud_detection_model.keras...\n",
            "Successfully uploaded fraud_detection_model.keras to fraud_detection_model.keras\n",
            "Uploading scaler.save...\n",
            "Successfully uploaded scaler.save to scaler.save\n",
            "Uploading README.md...\n",
            "Successfully uploaded README.md to README.md\n",
            "\n",
            "Deployment complete! Your model is available at: https://huggingface.co/NiharMandahas/NN_EL\n",
            "Successfully deployed to: https://huggingface.co/NiharMandahas/NN_EL\n"
          ]
        }
      ]
    },
    {
      "cell_type": "code",
      "source": [],
      "metadata": {
        "id": "UgAy9gBTk1P9"
      },
      "execution_count": null,
      "outputs": []
    },
    {
      "cell_type": "code",
      "source": [],
      "metadata": {
        "id": "XP0nUpOMk1TJ"
      },
      "execution_count": null,
      "outputs": []
    },
    {
      "cell_type": "code",
      "source": [],
      "metadata": {
        "id": "S73CEEaUk1WJ"
      },
      "execution_count": null,
      "outputs": []
    },
    {
      "cell_type": "code",
      "source": [
        "# train.py\n",
        "import pandas as pd\n",
        "import numpy as np\n",
        "from sklearn.preprocessing import StandardScaler\n",
        "from sklearn.model_selection import train_test_split\n",
        "import tensorflow as tf\n",
        "from tensorflow.keras import layers, models\n",
        "import joblib\n",
        "\n",
        "def create_model(input_dim):\n",
        "    model = models.Sequential([\n",
        "        # Modified input layer specification\n",
        "        layers.InputLayer(input_shape=(input_dim,)),\n",
        "        layers.Dense(64, activation='relu'),\n",
        "        layers.Dropout(0.3),\n",
        "        layers.Dense(32, activation='relu'),\n",
        "        layers.Dropout(0.2),\n",
        "        layers.Dense(16, activation='relu'),\n",
        "        layers.Dropout(0.2),\n",
        "        layers.Dense(8, activation='relu'),\n",
        "        layers.Dropout(0.1),\n",
        "        layers.Dense(1, activation='sigmoid')\n",
        "    ])\n",
        "    return model\n",
        "\n",
        "def train_and_save_model():\n",
        "    # Load and preprocess data\n",
        "    data = pd.read_csv(\"Final_1.csv\")  # Replace with your data path\n",
        "\n",
        "    attributes = [\n",
        "        \"Account_Age(months)\",\n",
        "        \"Frequency_credential_change(per year)\",\n",
        "        \"Return_to_Order\",\n",
        "        \"VPN/Temp_Mail?\",\n",
        "        \"Credit Score\"\n",
        "    ]\n",
        "\n",
        "    # Convert categorical variables\n",
        "    if \"VPN/Temp_Mail?\" in data.columns:\n",
        "        data[\"VPN/Temp_Mail?\"] = data[\"VPN/Temp_Mail?\"].map({\"Yes\": 1, \"No\": 0})\n",
        "    if \"Fraud/NOT\" in data.columns:\n",
        "        data[\"Fraud/NOT\"] = data[\"Fraud/NOT\"].map({\"Yes\": 1, \"No\": 0})\n",
        "\n",
        "    # Drop rows with missing values\n",
        "    data = data.dropna(subset=attributes + [\"Fraud/NOT\"])\n",
        "\n",
        "    # Split features and target\n",
        "    X = data[attributes]\n",
        "    y = data[\"Fraud/NOT\"]\n",
        "\n",
        "    # Scale features\n",
        "    scaler = StandardScaler()\n",
        "    X_scaled = scaler.fit_transform(X)\n",
        "\n",
        "    # Save the scaler\n",
        "    joblib.dump(scaler, 'scaler.save')\n",
        "\n",
        "    # Split the data\n",
        "    X_train, X_test, y_train, y_test = train_test_split(X_scaled, y, test_size=0.2, random_state=42)\n",
        "\n",
        "    # Create and compile model\n",
        "    model = create_model(X_train.shape[1])\n",
        "    model.compile(\n",
        "        optimizer='adam',\n",
        "        loss='binary_crossentropy',\n",
        "        metrics=['accuracy']\n",
        "    )\n",
        "\n",
        "    # Train the model\n",
        "    early_stopping = tf.keras.callbacks.EarlyStopping(\n",
        "        monitor='val_loss',\n",
        "        patience=10,\n",
        "        restore_best_weights=True\n",
        "    )\n",
        "\n",
        "    history = model.fit(\n",
        "        X_train, y_train,\n",
        "        epochs=10,\n",
        "        batch_size=32,\n",
        "        validation_split=0.2,\n",
        "        callbacks=[early_stopping],\n",
        "        verbose=1\n",
        "    )\n",
        "\n",
        "    # Evaluate model\n",
        "    test_loss, test_accuracy = model.evaluate(X_test, y_test)\n",
        "    print(f\"\\nTest Accuracy: {test_accuracy:.4f}\")\n",
        "\n",
        "    # Save the model in h5 format for better compatibility\n",
        "    model.save('fraud_detection_model.h5')\n",
        "\n",
        "    return history, model, scaler"
      ],
      "metadata": {
        "id": "J0wZn2Azk1Yp"
      },
      "execution_count": null,
      "outputs": []
    },
    {
      "cell_type": "code",
      "source": [],
      "metadata": {
        "id": "VHIlC13ToRyP"
      },
      "execution_count": null,
      "outputs": []
    }
  ]
}